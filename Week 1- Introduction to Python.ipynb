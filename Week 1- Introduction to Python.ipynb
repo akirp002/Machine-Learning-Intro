{
 "cells": [
  {
   "cell_type": "code",
   "execution_count": 1,
   "id": "e5862918",
   "metadata": {},
   "outputs": [],
   "source": [
    "from sklearn.preprocessing import normalize;from sklearn.preprocessing import MinMaxScaler;import sklearn;from sklearn.impute import SimpleImputer;import statsmodels;import statsmodels.api as sm;from statsmodels.tsa.api import VAR\n",
    "import numpy as np;import matplotlib.ticker as mticker\n",
    "import scipy as sc;from scipy import linalg;import matplotlib.pyplot as plt;import numpy as np\n",
    "from numpy import genfromtxt;from scipy.stats import beta\n",
    "from scipy.stats import norm;from scipy.stats import gamma\n",
    "from scipy.stats import invgamma;import matplotlib.pyplot as plt\n",
    "import seaborn as sns;import math;import pandas as pd;import scipy as sc;from sklearn.mixture import GaussianMixture;from sklearn.mixture import BayesianGaussianMixture;import time;\n",
    "import numpy as np;from sklearn.mixture import GaussianMixture;from sklearn import mixture\n",
    "m= np.matmul;resh = np.reshape;norm= np.random.standard_normal;inv  = np.linalg.inv ;det = np.linalg.det\n",
    "import time;import statsmodels.api as sm;from statsmodels.tsa.api import VAR\n",
    "arr = np.array;zeros = np.zeros\n",
    "import matplotlib.ticker as mtick\n",
    "import scipy.io as sio "
   ]
  },
  {
   "cell_type": "code",
   "execution_count": 4,
   "id": "c09553e3",
   "metadata": {},
   "outputs": [
    {
     "name": "stdout",
     "output_type": "stream",
     "text": [
      "Hello World\n"
     ]
    }
   ],
   "source": [
    "### Prints ####\n",
    "print('Hello World')"
   ]
  },
  {
   "cell_type": "code",
   "execution_count": 6,
   "id": "4153cf5d",
   "metadata": {},
   "outputs": [
    {
     "name": "stdout",
     "output_type": "stream",
     "text": [
      "25\n",
      "500\n",
      "480\n"
     ]
    }
   ],
   "source": [
    "### Variables ####\n",
    "a_0  = 5\n",
    "a_1 = 10\n",
    "a_2 = 15\n",
    "\n",
    "b = a_0+a_1\n",
    "### assignent operators ###\n",
    "b +=10\n",
    "print(b)\n",
    "b *=20\n",
    "print(b)\n",
    "b -=20\n",
    "print(b)"
   ]
  },
  {
   "cell_type": "code",
   "execution_count": 13,
   "id": "2e79a71b",
   "metadata": {},
   "outputs": [],
   "source": [
    "### Lists ####\n",
    "\n",
    "#### Lists are used to store multiple items in a single variable ####\n",
    "list1 = [\"apple\", \"banana\", \"cherry\"]\n",
    "list2 = [1, 5, 7, 9, 3]\n",
    "list3 = [True, False, False]\n",
    "### Check out more about: \n",
    "### https://docs.python.org/3.5/tutorial/datastructures.html#more-on-lists\n",
    "\n"
   ]
  },
  {
   "cell_type": "code",
   "execution_count": null,
   "id": "1a541d01",
   "metadata": {},
   "outputs": [],
   "source": [
    "# This doesnt make any sense!! ##\n",
    "list1[1]-list1[2]"
   ]
  },
  {
   "cell_type": "code",
   "execution_count": 14,
   "id": "92778254",
   "metadata": {},
   "outputs": [
    {
     "data": {
      "text/plain": [
       "-2"
      ]
     },
     "execution_count": 14,
     "metadata": {},
     "output_type": "execute_result"
    }
   ],
   "source": [
    "## But this does! ##\n",
    "list2[1]-list2[2]"
   ]
  },
  {
   "cell_type": "code",
   "execution_count": 9,
   "id": "132f2329",
   "metadata": {},
   "outputs": [
    {
     "name": "stdout",
     "output_type": "stream",
     "text": [
      "[3, 1, 2] 2\n",
      "2\n",
      "[3, 1, 'foo']\n",
      "[3, 1, 'foo', 'bar']\n",
      "bar [3, 1, 'foo']\n"
     ]
    }
   ],
   "source": [
    "xs = [3, 1, 2]    # Create a list\n",
    "print(xs, xs[2])  # Prints \"[3, 1, 2] 2\"\n",
    "print(xs[-1])     # Negative indices count from the end of the list; prints \"2\"\n",
    "xs[2] = 'foo'     # Lists can contain elements of different types\n",
    "print(xs)         # Prints \"[3, 1, 'foo']\"\n",
    "xs.append('bar')  # Add a new element to the end of the list\n",
    "print(xs)         # Prints \"[3, 1, 'foo', 'bar']\"\n",
    "x = xs.pop()      # Remove and return the last element of the list\n",
    "print(x, xs)      # Prints \"bar [3, 1, 'foo']\"\n"
   ]
  },
  {
   "cell_type": "code",
   "execution_count": 16,
   "id": "e6e7f0a3",
   "metadata": {},
   "outputs": [
    {
     "name": "stdout",
     "output_type": "stream",
     "text": [
      "initial list: [3, 4, 5]\n",
      "new list: [3, 4, 5, 6]\n",
      "new list: [3, 4, 5, 6, 7]\n",
      "popped list: 7\n",
      "resulting list: [3, 4, 5, 6]\n",
      "popped list: 6\n",
      "popped list: 5\n",
      "resulting list: [3, 4]\n"
     ]
    }
   ],
   "source": [
    "stack = [3, 4, 5]\n",
    "print('initial list:', stack)\n",
    "stack.append(6)\n",
    "print('new list:', stack)\n",
    "stack.append(7)\n",
    "print('new list:', stack)\n",
    "print('popped list:', stack.pop())\n",
    "print('resulting list:',stack)\n",
    "print('popped list:', stack.pop())\n",
    "print('popped list:', stack.pop())\n",
    "print('resulting list:',stack)"
   ]
  },
  {
   "cell_type": "code",
   "execution_count": null,
   "id": "5c8535ca",
   "metadata": {},
   "outputs": [],
   "source": []
  },
  {
   "cell_type": "code",
   "execution_count": 19,
   "id": "1f4c64eb",
   "metadata": {},
   "outputs": [
    {
     "name": "stdout",
     "output_type": "stream",
     "text": [
      "0 cat\n",
      "1 dog\n",
      "2 monkey\n"
     ]
    }
   ],
   "source": [
    "## For loop v Enumeration ##\n",
    "animals = ['cat', 'dog', 'monkey']\n",
    "for animal in animals:\n",
    "    print(animal)\n",
    "\n",
    "animals = ['cat', 'dog', 'monkey']\n",
    "for idx, animal in enumerate(animals):\n",
    "    #print('#%d: %s' % (idx + 1, animal))\n",
    "    print(idx,animal)\n",
    "\n",
    "    "
   ]
  },
  {
   "cell_type": "code",
   "execution_count": null,
   "id": "3b09204f",
   "metadata": {},
   "outputs": [],
   "source": [
    "## Booleans : True v False "
   ]
  },
  {
   "cell_type": "code",
   "execution_count": 45,
   "id": "0612217b",
   "metadata": {},
   "outputs": [
    {
     "name": "stdout",
     "output_type": "stream",
     "text": [
      "Check if statement is true or not: False\n",
      "Check if statement is true or not: True\n",
      "resulting number: 0\n",
      "resulting number: 1\n",
      "Answer: 2\n"
     ]
    }
   ],
   "source": [
    "a_0 = 9\n",
    "a_1 = 10\n",
    "print('Check if statement is true or not:', a_0>a_1)\n",
    "print('Check if statement is true or not:', a_0<a_1)\n",
    "## Can Assign condition as a variable: ##\n",
    "b_0 = a_0>a_1\n",
    "## can convert this into number: ##\n",
    "print('resulting number:',int(b_0))\n",
    "b_0 = a_0<a_1\n",
    "print('resulting number:',int(b_0))\n",
    "### What's the point of doing this? ###\n",
    "k_0  = list([10,11,12])\n",
    "k_1 = list()\n",
    "k_1.append(int(kk[0]>=11))\n",
    "k_1.append(int(kk[1]>=11))\n",
    "k_1.append(int(kk[2]>=11))\n",
    "### How many elements in the list are greater than or equal to 11: ##\n",
    "print('Answer:',sum(k_1))"
   ]
  },
  {
   "cell_type": "code",
   "execution_count": null,
   "id": "6b445ffe",
   "metadata": {},
   "outputs": [],
   "source": []
  },
  {
   "cell_type": "code",
   "execution_count": null,
   "id": "8ed18fef",
   "metadata": {},
   "outputs": [],
   "source": []
  },
  {
   "cell_type": "code",
   "execution_count": null,
   "id": "1988e5c7",
   "metadata": {},
   "outputs": [],
   "source": []
  },
  {
   "cell_type": "code",
   "execution_count": 48,
   "id": "360d90c7",
   "metadata": {},
   "outputs": [
    {
     "name": "stdout",
     "output_type": "stream",
     "text": [
      "1\n",
      "2\n",
      "3\n",
      "4\n",
      "5\n",
      "6\n",
      "7\n",
      "8\n",
      "9\n",
      "10\n",
      "0\n",
      "1\n",
      "2\n",
      "3\n",
      "4\n",
      "5\n",
      "6\n",
      "7\n",
      "8\n",
      "9\n",
      "10 True\n"
     ]
    }
   ],
   "source": [
    "## While  loop v For Loop:    ##\n",
    "# Need to initialize variable to iterate over:\n",
    "t =0\n",
    "while t<10:\n",
    "    print(t+1)\n",
    "    t+=1\n",
    "\n",
    "# No Need to initialize or increment while in the loop\n",
    "for t in range(10):\n",
    "    print(t)\n",
    "\n",
    "    \n",
    "## What's the difference? ###    \n",
    "## Not much for simple operations\n",
    "\n",
    "## Difference comes when there a condition that must be met!!!\n",
    "\n",
    "## Example:\n",
    "a = 0\n",
    "condition = 0 \n",
    "while condition==False:\n",
    "    condition = a<100\n",
    "    a+=10\n",
    "    print(a,condition)"
   ]
  },
  {
   "cell_type": "code",
   "execution_count": 59,
   "id": "a0c9b759",
   "metadata": {},
   "outputs": [
    {
     "name": "stdout",
     "output_type": "stream",
     "text": [
      "(3,)\n",
      "Matrix Result: [[4]\n",
      " [4]\n",
      " [4]]\n",
      "c shape: (3, 1)\n"
     ]
    }
   ],
   "source": [
    "#### Arrays ###\n",
    "### Need to use the package numpy ###\n",
    "## This is the Bread and Butter of Python Development and Statistics !!!! #####\n",
    "\n",
    "### Arrays are units that store numerical data in a fast/efficient manner ###\n",
    "## Arrays can be used for many mathetical and statistical procedures ###\n",
    "### Almost all of Deep learning / AI models use arrays to perform prediction/analysis\n",
    "import numpy as np\n",
    "a_0 = np.array([2,2,2])\n",
    "a_1 = np.array([2,2,2])\n",
    "a_3 = a_0+a_1\n",
    "print(a_3.shape)\n",
    "a_3 = np.reshape(a_3,[3,1])\n",
    "print('Matrix Result:', a_3)\n",
    "## Generate Normal distributed variables: ##\n",
    "## Generate 3X3 Matrix:\n",
    "A = np.random.standard_normal([3,3])\n",
    "## Perform Matrix Multiplication: ##\n",
    "c = np.matmul(A,a_3)\n",
    "print('c shape:', c.shape)\n",
    "### Assignment Operators: ###\n",
    "print('c before:',c)\n",
    "c+=3\n",
    "print('c after:',c)\n",
    "c*=3\n",
    "print('c after:',c)"
   ]
  },
  {
   "cell_type": "code",
   "execution_count": 70,
   "id": "f4e05b12",
   "metadata": {},
   "outputs": [
    {
     "name": "stdout",
     "output_type": "stream",
     "text": [
      "Matrix 1:\n",
      "[[-0.2313329   1.13367677 -0.18775662]\n",
      " [ 0.38518221  1.7419898   0.69464912]\n",
      " [-0.72403684  1.7101372  -0.18910731]]\n",
      " \n",
      "Matrix 2:\n",
      "[[ 1.77331366  1.112122   -0.65726658]\n",
      " [-0.98448253 -0.2559453   0.73644456]\n",
      " [-0.46647184 -1.15882208  2.68374258]]\n",
      " \n",
      "err_0: 0.0\n",
      "err_1: 0.0\n"
     ]
    }
   ],
   "source": [
    "### I can make 3D Arrays and perform 3D multiplication ###\n",
    "# Dimension length\n",
    "J = 2\n",
    "N= 3\n",
    "M = 3\n",
    "C = np.random.standard_normal([J,M,N])\n",
    "### I've produced 2 3X3 Matrices ###\n",
    "print('Matrix 1:')\n",
    "print(C[0])\n",
    "print(' ')\n",
    "print('Matrix 2:')\n",
    "print(C[1])\n",
    " \n",
    "# I can perform simulatenous computations of matrix inverse:\n",
    "C_inv = np.linalg.inv(C)\n",
    "# Check if the operation is correct:\n",
    "err_0 = np.linalg.inv(C)[0]-np.linalg.inv(C[0])\n",
    "err_1 = np.linalg.inv(C)[1]-np.linalg.inv(C[1])\n",
    "print(' ')\n",
    "## err_0 prints the resulting difference between 1rst matrix of C 's inverse and first matrix of C_inv\n",
    "print('err_0:',np.sum(err_0) )\n",
    "## err_1 prints the resulting difference between 2nd matrix of C 's inverse and second matrix of C_inv\n",
    "print('err_1:',np.sum(err_1) )"
   ]
  },
  {
   "cell_type": "code",
   "execution_count": 72,
   "id": "c9461ca2",
   "metadata": {},
   "outputs": [
    {
     "name": "stdout",
     "output_type": "stream",
     "text": [
      "219\n",
      "219\n",
      "[29 67]\n",
      "[29 67]\n",
      "[[19 22]\n",
      " [43 50]]\n",
      "[[19 22]\n",
      " [43 50]]\n"
     ]
    }
   ],
   "source": [
    "x = np.array([[1,2],[3,4]])\n",
    "y = np.array([[5,6],[7,8]])\n",
    "\n",
    "v = np.array([9,10])\n",
    "w = np.array([11, 12])\n",
    "\n",
    "# Inner product of vectors; both produce 219\n",
    "# v.dot(w)\n",
    "print(np.dot(v, w))\n",
    "\n",
    "# Matrix / vector product; both produce the rank 1 array [29 67]\n",
    "# x.dot(v)\n",
    "print(np.dot(x, v))\n",
    "\n",
    "# Matrix / matrix product; both produce the rank 2 array\n",
    "# [[19 22]\n",
    "#  [43 50]]\n",
    "# x.dot(y)\n",
    "print(np.dot(x, y))\n",
    "\n"
   ]
  },
  {
   "cell_type": "code",
   "execution_count": 81,
   "id": "813b4f29",
   "metadata": {},
   "outputs": [
    {
     "name": "stdout",
     "output_type": "stream",
     "text": [
      "Matrix A:\n",
      " \n",
      "[[-2.06433744 -0.02996966]\n",
      " [-0.47728971 -0.65829196]]\n",
      " \n",
      "Matrix B:\n",
      " \n",
      "[[-0.59483927  0.17283501]\n",
      " [ 0.7895044   1.03448056]]\n",
      " \n",
      "Resultant Matrix:\n",
      " \n",
      "[[ 1.22794896 -0.00517981]\n",
      " [-0.37682232 -0.68099024]]\n"
     ]
    }
   ],
   "source": [
    "### Elementwise multiplication of Matrices ##\n",
    "A = np.random.standard_normal([2,2])\n",
    "B = np.random.standard_normal([2,2])\n",
    "print('Matrix A:')\n",
    "print(' ')\n",
    "print(A)\n",
    "print(' ')\n",
    "print('Matrix B:')\n",
    "print(' ')\n",
    "print(B)\n",
    "print(' ')\n",
    "print('Resultant Matrix:')\n",
    "print(' ')\n",
    "print(A*B)\n"
   ]
  },
  {
   "cell_type": "code",
   "execution_count": 82,
   "id": "e362d102",
   "metadata": {},
   "outputs": [],
   "source": [
    "#### Methods (functions) in Python: ###\n",
    "\n",
    "### Fuction allows you to avoid writing code repeatedly ###\n",
    "def dothis(x,y):\n",
    "    # x,y are inputs\n",
    "    c = np.matmul(x,y)\n",
    "    c+=c\n",
    "    # Return function spits out the result of whatever you are trying to do\n",
    "    return c\n",
    "\n",
    "\n"
   ]
  },
  {
   "cell_type": "code",
   "execution_count": null,
   "id": "47951a82",
   "metadata": {},
   "outputs": [],
   "source": []
  },
  {
   "cell_type": "code",
   "execution_count": null,
   "id": "7709aa20",
   "metadata": {},
   "outputs": [],
   "source": []
  },
  {
   "cell_type": "code",
   "execution_count": null,
   "id": "1b200f56",
   "metadata": {},
   "outputs": [],
   "source": []
  },
  {
   "cell_type": "code",
   "execution_count": null,
   "id": "5398a479",
   "metadata": {},
   "outputs": [],
   "source": []
  },
  {
   "cell_type": "code",
   "execution_count": null,
   "id": "3aa38528",
   "metadata": {},
   "outputs": [],
   "source": []
  }
 ],
 "metadata": {
  "kernelspec": {
   "display_name": "Python 3",
   "language": "python",
   "name": "python3"
  },
  "language_info": {
   "codemirror_mode": {
    "name": "ipython",
    "version": 3
   },
   "file_extension": ".py",
   "mimetype": "text/x-python",
   "name": "python",
   "nbconvert_exporter": "python",
   "pygments_lexer": "ipython3",
   "version": "3.9.5"
  }
 },
 "nbformat": 4,
 "nbformat_minor": 5
}
